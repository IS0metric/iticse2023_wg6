{
 "cells": [
  {
   "cell_type": "markdown",
   "id": "b8c39047",
   "metadata": {},
   "source": [
    "Following https://realpython.com/beautiful-soup-web-scraper-python/\n",
    "and https://www.scrapingbee.com/blog/selenium-python/\n",
    "\n",
    "\n",
    "install webdriver for Chrome from https://chromedriver.chromium.org/downloads\n",
    "\n",
    "in your python environment install selenium https://selenium-python.readthedocs.io/installation.html\n",
    "\n",
    "to identify xpath location of relevant content can use https://selectorshub.com/selectorshub/"
   ]
  },
  {
   "cell_type": "code",
   "execution_count": 24,
   "id": "5eb29014",
   "metadata": {},
   "outputs": [],
   "source": [
    "import json\n",
    "import pandas as pd\n",
    "\n",
    "import os\n",
    "\n",
    "from selenium import webdriver\n",
    "from selenium.webdriver.common.by import By\n",
    "\n",
    "import pprint"
   ]
  },
  {
   "cell_type": "code",
   "execution_count": 25,
   "id": "02956f56",
   "metadata": {},
   "outputs": [
    {
     "name": "stdout",
     "output_type": "stream",
     "text": [
      "['Durham_UK', 'Glasgow_UK']\n"
     ]
    }
   ],
   "source": [
    "config_json = \"scraping_config.json\"\n",
    "institution_json = \"institution.json\"\n",
    "\n",
    "config_file = open(config_json)\n",
    "\n",
    "config = json.load(config_file)\n",
    "config_file.close()\n",
    "\n",
    "institutions = config['institutions']\n",
    "driver_path = config['driver_path']\n",
    "\n",
    "print(institutions)\n",
    "\n",
    "pp = pprint.PrettyPrinter(indent=4)"
   ]
  },
  {
   "cell_type": "code",
   "execution_count": 6,
   "id": "2c02add2",
   "metadata": {},
   "outputs": [],
   "source": [
    "# See https://stackoverflow.com/questions/43085744/parsing-robots-txt-in-python\n",
    "import urllib.robotparser as urobot\n",
    "import urllib.request\n",
    "from urllib.parse import urlparse\n",
    "\n",
    "rp = urobot.RobotFileParser()\n",
    "# TODO check the robot file"
   ]
  },
  {
   "cell_type": "code",
   "execution_count": 52,
   "id": "ad07cccb",
   "metadata": {},
   "outputs": [
    {
     "name": "stderr",
     "output_type": "stream",
     "text": [
      "/var/folders/my/th4q3hxs0b7c1t1qlv0j2dtm0000gp/T/ipykernel_85089/3803288518.py:1: DeprecationWarning: executable_path has been deprecated, please pass in a Service object\n",
      "  driver = webdriver.Chrome(executable_path=driver_path)\n"
     ]
    },
    {
     "name": "stdout",
     "output_type": "stream",
     "text": [
      "{   'XPath': {   'content': \"//*[@id='fhcontent']/following-sibling::ul[1]\",\n",
      "                 'ilo': \"//div[normalize-space()='Subject-specific \"\n",
      "                        \"Skills:']/following-sibling::ul[1]\",\n",
      "                 'title': '//h3'},\n",
      "    'cohorts': [   {   'academic_year': '2022',\n",
      "                       'level': '3',\n",
      "                       'modules': [   'COMP3477',\n",
      "                                      'COMP3421',\n",
      "                                      'COMP3487',\n",
      "                                      'COMP3491',\n",
      "                                      'COMP3517',\n",
      "                                      'COMP3527'],\n",
      "                       'programme': 'CS'}],\n",
      "    'institution': 'Durham',\n",
      "    'scrapeURL': 'https://apps.dur.ac.uk/faculty.handbook/2022/UG/module/%MODULE%'}\n",
      "url  https://apps.dur.ac.uk/faculty.handbook/2022/UG/module/%MODULE%\n"
     ]
    },
    {
     "name": "stderr",
     "output_type": "stream",
     "text": [
      "/var/folders/my/th4q3hxs0b7c1t1qlv0j2dtm0000gp/T/ipykernel_85089/3803288518.py:57: FutureWarning: The frame.append method is deprecated and will be removed from pandas in a future version. Use pandas.concat instead.\n",
      "  modules_df = modules_df.append(new_row, ignore_index=True)\n",
      "/var/folders/my/th4q3hxs0b7c1t1qlv0j2dtm0000gp/T/ipykernel_85089/3803288518.py:57: FutureWarning: The frame.append method is deprecated and will be removed from pandas in a future version. Use pandas.concat instead.\n",
      "  modules_df = modules_df.append(new_row, ignore_index=True)\n",
      "/var/folders/my/th4q3hxs0b7c1t1qlv0j2dtm0000gp/T/ipykernel_85089/3803288518.py:57: FutureWarning: The frame.append method is deprecated and will be removed from pandas in a future version. Use pandas.concat instead.\n",
      "  modules_df = modules_df.append(new_row, ignore_index=True)\n",
      "/var/folders/my/th4q3hxs0b7c1t1qlv0j2dtm0000gp/T/ipykernel_85089/3803288518.py:57: FutureWarning: The frame.append method is deprecated and will be removed from pandas in a future version. Use pandas.concat instead.\n",
      "  modules_df = modules_df.append(new_row, ignore_index=True)\n",
      "/var/folders/my/th4q3hxs0b7c1t1qlv0j2dtm0000gp/T/ipykernel_85089/3803288518.py:57: FutureWarning: The frame.append method is deprecated and will be removed from pandas in a future version. Use pandas.concat instead.\n",
      "  modules_df = modules_df.append(new_row, ignore_index=True)\n",
      "/var/folders/my/th4q3hxs0b7c1t1qlv0j2dtm0000gp/T/ipykernel_85089/3803288518.py:57: FutureWarning: The frame.append method is deprecated and will be removed from pandas in a future version. Use pandas.concat instead.\n",
      "  modules_df = modules_df.append(new_row, ignore_index=True)\n"
     ]
    },
    {
     "name": "stdout",
     "output_type": "stream",
     "text": [
      "{   'XPath': {   'content': \"//*[@id='fhcontent']/following-sibling::ul[1]\",\n",
      "                 'ilo': '',\n",
      "                 'summary': \"//span[@id='_%MODULE%']\",\n",
      "                 'title': '/html[1]/body[1]/div[4]/div[2]/div[1]/div[1]/div[1]/main[1]/div[1]/h2[1]'},\n",
      "    'cohorts': [   {   'academic_year': '2022',\n",
      "                       'level': '3',\n",
      "                       'modules': ['COMPSCI4021'],\n",
      "                       'programme': 'CS'}],\n",
      "    'institution': 'Glasgow_UK',\n",
      "    'scrapeURL': 'https://www.gla.ac.uk/coursecatalogue/course/?code=%MODULE%'}\n",
      "url  https://www.gla.ac.uk/coursecatalogue/course/?code=%MODULE%\n"
     ]
    },
    {
     "name": "stderr",
     "output_type": "stream",
     "text": [
      "/var/folders/my/th4q3hxs0b7c1t1qlv0j2dtm0000gp/T/ipykernel_85089/3803288518.py:57: FutureWarning: The frame.append method is deprecated and will be removed from pandas in a future version. Use pandas.concat instead.\n",
      "  modules_df = modules_df.append(new_row, ignore_index=True)\n"
     ]
    }
   ],
   "source": [
    "driver = webdriver.Chrome(executable_path=driver_path)\n",
    "\n",
    "try:\n",
    "    for institution_name in institutions:\n",
    "        path = institution_name\n",
    "\n",
    "        institution_file = open(os.path.join(path, institution_json))\n",
    "\n",
    "        institution_config = json.load(institution_file)\n",
    "        institution_file.close()\n",
    "        pp.pprint(institution_config)\n",
    "        modules_df = pd.DataFrame(columns=['institution', 'cohort', 'module', 'title', 'content'], dtype=\"string\")\n",
    "    #modules_df = pd.DataFrame(dtype=\"string\")\n",
    "\n",
    "\n",
    "        url = institution_config['scrapeURL']\n",
    "        \n",
    "        print (\"url \", url)\n",
    "        \n",
    "        urlp = urlparse(url)\n",
    "    # robots.txt doesn't seem to work\n",
    "        \"\"\"\n",
    "        robots_url = urlp._replace(path=\"/robots.txt\", fragment=\"\", query=\"\").geturl()\n",
    "        driver.get(robots_url)\n",
    "        rp.read()\n",
    "        \"\"\"\n",
    "\n",
    "        xpaths = institution_config['XPath']\n",
    "        cohorts = institution_config['cohorts']\n",
    "        for cohort in cohorts:\n",
    "            modules = cohort['modules']\n",
    "            for module in modules:\n",
    "                module_url = url.replace(\"%MODULE%\", module)\n",
    "    #            if not rp.can_fetch(\"*\", module_url):\n",
    "    #                print(\"robots.txt denies access to \" + module_url)\n",
    "    #                continue\n",
    "                driver.get(module_url)\n",
    "                content = \"\"\n",
    "                content_paths = ['title', 'summary', 'content', 'ilo']\n",
    "                for content_path in content_paths:\n",
    "                    try:\n",
    "                        content_elts = driver.find_elements(By.XPATH, xpaths[content_path])\n",
    "                    except Exception:\n",
    "                        continue\n",
    "                    content += \"<h2>\" + content_path + \"</h2>\"\n",
    "                    for elt in content_elts:\n",
    "                        content += elt.get_attribute('innerHTML')\n",
    "                title = \"\"\n",
    "                title_elts = driver.find_elements(By.XPATH, xpaths['title'])\n",
    "                for elt in title_elts:\n",
    "                    title += elt.get_attribute('innerHTML')\n",
    "\n",
    "                cohort_descriptor = cohort['programme'] + \" \" + cohort['level'] + \" \" + cohort['academic_year']\n",
    "                new_row = {\"institution\": institution_config['institution'],\n",
    "                           \"cohort\":  cohort_descriptor,\n",
    "                          \"module\": module,\n",
    "                          \"title\": title,\n",
    "                          \"content\": content}\n",
    "                modules_df = modules_df.append(new_row, ignore_index=True)\n",
    "                modules_df.to_csv(os.path.join(path,'modules.csv'), index= False)\n",
    "\n",
    "    driver.quit()\n",
    "except OSError as err:\n",
    "    print(\"OS error:\", err)\n",
    "    \n",
    "# except Exception as err:\n",
    "#     print(f\"Unexpected {err=}, {type(err)=}\")\n",
    "#     driver.quit()\n",
    " \n"
   ]
  },
  {
   "cell_type": "code",
   "execution_count": 50,
   "id": "ba9ab347",
   "metadata": {},
   "outputs": [],
   "source": [
    "driver.quit()"
   ]
  }
 ],
 "metadata": {
  "kernelspec": {
   "display_name": "Python 3 (ipykernel)",
   "language": "python",
   "name": "python3"
  },
  "language_info": {
   "codemirror_mode": {
    "name": "ipython",
    "version": 3
   },
   "file_extension": ".py",
   "mimetype": "text/x-python",
   "name": "python",
   "nbconvert_exporter": "python",
   "pygments_lexer": "ipython3",
   "version": "3.9.13"
  },
  "vscode": {
   "interpreter": {
    "hash": "585d31e54a21d1bfc1be4250c86dd227baf24e7e00ddbae4f24c571ed02daca1"
   }
  }
 },
 "nbformat": 4,
 "nbformat_minor": 5
}
